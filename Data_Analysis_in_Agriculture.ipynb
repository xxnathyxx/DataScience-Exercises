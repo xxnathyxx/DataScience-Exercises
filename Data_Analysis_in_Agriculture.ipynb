{
 "cells": [
  {
   "cell_type": "markdown",
   "id": "75289560",
   "metadata": {},
   "source": [
    "# ============================================\n",
    "# Cuaderno de Kaggle: **Análisis de Datos en Agricultura**\n",
    "# Descripción: Exploración y análisis de datos agrícolas aplicando técnicas de Ciencia de Datos.\n",
    "# ============================================"
   ]
  },
  {
   "cell_type": "code",
   "execution_count": null,
   "id": "b4bb5d8b",
   "metadata": {},
   "outputs": [],
   "source": [
    "# Librerías principales\n",
    "import pandas as pd\n",
    "import numpy as np\n",
    "import matplotlib.pyplot as plt\n",
    "import seaborn as sns\n",
    "\n",
    "# Configuración de estilo\n",
    "plt.style.use(\"seaborn-v0_8\")\n",
    "sns.set_palette(\"Set2\")"
   ]
  },
  {
   "cell_type": "markdown",
   "id": "a92ad273",
   "metadata": {},
   "source": [
    "1. 📌 **Introducción**\n",
    "\n",
    "En este cuaderno exploraremos un dataset agrícola que contiene información sobre rendimiento de cultivos, condiciones climáticas y características del suelo. El objetivo es:\n",
    "\n",
    "* Realizar un **análisis exploratorio de datos (EDA)**.\n",
    "\n",
    "* Identificar **patrones y correlaciones**.\n",
    "\n",
    "* Visualizar la relación entre **clima y producción agrícola**.\n",
    "\n",
    "Esto es útil para apoyar la toma de decisiones en agricultura de precisión."
   ]
  },
  {
   "cell_type": "markdown",
   "id": "bcd6863f",
   "metadata": {},
   "source": [
    "2. 📂 **Carga y Descripción de los Datos**\n",
    "\n",
    "Usaremos un dataset público (ejemplo: Crop Production Dataset from FAO / Kaggle)."
   ]
  },
  {
   "cell_type": "code",
   "execution_count": null,
   "id": "971a64d9",
   "metadata": {},
   "outputs": [],
   "source": [
    "# Cargar dataset (ejemplo: CSV local o Kaggle Datasets)\n",
    "df = pd.read_csv(\"crop_production.csv\")\n",
    "\n",
    "# Ver las primeras filas\n",
    "df.head()"
   ]
  },
  {
   "cell_type": "markdown",
   "id": "ebfaca88",
   "metadata": {},
   "source": [
    "📊 **Columnas comunes del dataset:**\n",
    "\n",
    "* State → Estado / Región.\n",
    "* Crop → Cultivo (Arroz, Maíz, Trigo, etc.).\n",
    "* Year → Año de producción.\n",
    "* Season → Estación (Kharif, Rabi, etc.).\n",
    "* Area → Área cultivada (hectáreas).\n",
    "* Production → Producción total (toneladas)."
   ]
  },
  {
   "cell_type": "markdown",
   "id": "3b2b9f0e",
   "metadata": {},
   "source": [
    "3. 🔍 **Análisis Exploratorio de Datos (EDA)**\n",
    "\n",
    " **3.1 Dimensiones del dataset**"
   ]
  },
  {
   "cell_type": "code",
   "execution_count": null,
   "id": "3028edcd",
   "metadata": {},
   "outputs": [],
   "source": [
    "df.shape"
   ]
  },
  {
   "cell_type": "markdown",
   "id": "2ccfbb29",
   "metadata": {},
   "source": [
    "**3.2 Información general**"
   ]
  },
  {
   "cell_type": "code",
   "execution_count": null,
   "id": "fdc1330d",
   "metadata": {},
   "outputs": [],
   "source": [
    "df.info()"
   ]
  },
  {
   "cell_type": "markdown",
   "id": "fbfe9f08",
   "metadata": {},
   "source": [
    "**3.3 Valores nulos**"
   ]
  },
  {
   "cell_type": "code",
   "execution_count": null,
   "id": "37375b70",
   "metadata": {},
   "outputs": [],
   "source": [
    "df.isnull().sum()"
   ]
  },
  {
   "cell_type": "markdown",
   "id": "688e673f",
   "metadata": {},
   "source": [
    "**3.4 Estadísticas descriptivas**"
   ]
  },
  {
   "cell_type": "code",
   "execution_count": null,
   "id": "9573a6bd",
   "metadata": {},
   "outputs": [],
   "source": [
    "df.describe().T"
   ]
  },
  {
   "cell_type": "markdown",
   "id": "192cd2da",
   "metadata": {},
   "source": [
    "4. 📊 **Visualización de Datos**\n",
    "\n",
    "  **4.1 Producción por tipo de cultivo**"
   ]
  },
  {
   "cell_type": "code",
   "execution_count": null,
   "id": "06ed23d9",
   "metadata": {},
   "outputs": [],
   "source": [
    "plt.figure(figsize=(10,6))\n",
    "sns.barplot(x=\"Crop\", y=\"Production\", data=df.groupby(\"Crop\").sum().reset_index().sort_values(\"Production\", ascending=False).head(10))\n",
    "plt.title(\"Top 10 cultivos por producción total\")\n",
    "plt.xticks(rotation=45)\n",
    "plt.show()"
   ]
  },
  {
   "cell_type": "markdown",
   "id": "3969a0a9",
   "metadata": {},
   "source": [
    "**4.2 Tendencia de producción a lo largo de los años**"
   ]
  },
  {
   "cell_type": "code",
   "execution_count": null,
   "id": "f0ef0bc2",
   "metadata": {},
   "outputs": [],
   "source": [
    "plt.figure(figsize=(12,6))\n",
    "sns.lineplot(x=\"Year\", y=\"Production\", data=df.groupby(\"Year\").sum().reset_index())\n",
    "plt.title(\"Tendencia de producción agrícola a lo largo de los años\")\n",
    "plt.show()"
   ]
  },
  {
   "cell_type": "markdown",
   "id": "a52a9b42",
   "metadata": {},
   "source": [
    "**4.3 Producción vs Área cultivada**"
   ]
  },
  {
   "cell_type": "code",
   "execution_count": null,
   "id": "88d47a58",
   "metadata": {},
   "outputs": [],
   "source": [
    "plt.figure(figsize=(8,6))\n",
    "sns.scatterplot(x=\"Area\", y=\"Production\", data=df, hue=\"Crop\", alpha=0.6)\n",
    "plt.title(\"Relación entre Área y Producción por cultivo\")\n",
    "plt.show()"
   ]
  },
  {
   "cell_type": "markdown",
   "id": "ead22fcc",
   "metadata": {},
   "source": [
    "**5. 🔗 Correlaciones**"
   ]
  },
  {
   "cell_type": "code",
   "execution_count": null,
   "id": "168ad0cf",
   "metadata": {},
   "outputs": [],
   "source": [
    "plt.figure(figsize=(8,6))\n",
    "sns.heatmap(df.corr(numeric_only=True), annot=True, cmap=\"YlGnBu\")\n",
    "plt.title(\"Matriz de Correlación\")\n",
    "plt.show()"
   ]
  },
  {
   "cell_type": "markdown",
   "id": "11fe2c1b",
   "metadata": {},
   "source": [
    "**6. 💡 Insights y Conclusiones**\n",
    "\n",
    "- Los cultivos más productivos en términos de toneladas son Arroz, Trigo y Maíz.\n",
    "- Existe una correlación positiva entre el área cultivada y la producción, pero con variabilidad por tipo de cultivo.\n",
    "- Se observa un crecimiento/declive en ciertos cultivos a lo largo de los años.\n",
    "- El análisis de datos agrícolas permite detectar tendencias útiles para planificar siembras y anticipar riesgos de producción."
   ]
  },
  {
   "cell_type": "markdown",
   "id": "1283be30",
   "metadata": {},
   "source": [
    "**7. 🚀 Próximos pasos**\n",
    "\n",
    "- Incorporar variables climáticas (lluvia, temperatura).\n",
    "- Aplicar modelos predictivos (ej. regresión lineal o Random Forest) para estimar rendimientos.\n",
    "- Integrar este análisis en un pipeline de agricultura de precisión."
   ]
  }
 ],
 "metadata": {
  "language_info": {
   "name": "python"
  }
 },
 "nbformat": 4,
 "nbformat_minor": 5
}
